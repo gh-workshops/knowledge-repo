{
 "cells": [
  {
   "cell_type": "code",
   "execution_count": null,
   "metadata": {
    "collapsed": false
   },
   "outputs": [],
   "source": [
    "!pip install folium"
   ]
  },
  {
   "cell_type": "code",
   "execution_count": null,
   "metadata": {
    "collapsed": true
   },
   "outputs": [],
   "source": [
    "%matplotlib inline"
   ]
  },
  {
   "cell_type": "code",
   "execution_count": null,
   "metadata": {
    "collapsed": false
   },
   "outputs": [],
   "source": [
    "%%html\n",
    "<link rel=\"import\" href=\"urth_components/paper-dropdown-menu/paper-dropdown-menu.html\" is='urth-core-import' package='PolymerElements/paper-dropdown-menu'>\n",
    "<link rel=\"import\" href=\"urth_components/paper-menu/paper-menu.html\" is='urth-core-import' package='PolymerElements/paper-menu'>\n",
    "<link rel=\"import\" href=\"urth_components/paper-item/paper-item.html\" is='urth-core-import' package='PolymerElements/paper-item'>\n",
    "<link rel=\"import\" href=\"urth_components/paper-button/paper-button.html\" is='urth-core-import' package='PolymerElements/paper-button'>\n",
    "<link rel=\"import\" href=\"urth_components/paper-card/paper-card.html\" is='urth-core-import' package='PolymerElements/paper-card'>\n",
    "<link rel=\"import\" href=\"urth_components/paper-slider/paper-slider.html\" is='urth-core-import' package='PolymerElements/paper-slider'>\n",
    "<link rel=\"import\" href=\"urth_components/google-map/google-map.html\" is='urth-core-import' package='GoogleWebComponents/google-map'>\n",
    "<link rel=\"import\" href=\"urth_components/google-map/google-map-marker.html\" is='urth-core-import' package='GoogleWebComponents/google-map'>\n",
    "<link rel=\"import\" href=\"urth_components/urth-viz-table/urth-viz-table.html\" is='urth-core-import'>\n",
    "<link rel=\"import\" href=\"urth_components/urth-viz-chart/urth-viz-chart.html\" is='urth-core-import'>\n",
    "<link rel=\"stylesheet\" href=\"http://cdn.leafletjs.com/leaflet-0.5/leaflet.css\" />\n",
    "<link rel=\"import\" href=\"./urth-raw-html.html\">"
   ]
  },
  {
   "cell_type": "code",
   "execution_count": null,
   "metadata": {
    "collapsed": false
   },
   "outputs": [],
   "source": [
    "import os\n",
    "import struct\n",
    "import glob\n",
    "import pandas as pd\n",
    "import datetime as dt\n",
    "\n",
    "# Use this global variable to specify the path for station summary files.\n",
    "NOAA_STATION_SUMMARY_PATH = \"/home/jovyan/work/noaa/data/\"\n",
    "\n",
    "# Use this global variable to specify the path for the GHCND Station Directory\n",
    "STATION_DETAIL_FILE = '/home/jovyan/work/noaa/data/ghcnd-stations.txt'\n",
    "\n",
    "# Station detail structures for building station lists\n",
    "station_detail_colnames = ['StationID','State','Name',\n",
    "                            'Latitude','Longitude','QueryTag']\n",
    "\n",
    "station_detail_rec_template = {'StationID': \"\",\n",
    "                                'State': \"\",\n",
    "                                'Name': \"\",\n",
    "                                'Latitude': \"\",\n",
    "                                'Longitude': \"\",\n",
    "                                'QueryTag': \"\"\n",
    "                                }\n",
    "\n",
    "# -----------------------------------\n",
    "# Station Detail Processing\n",
    "# -----------------------------------\n",
    "def get_filename(pathname):\n",
    "    '''Fetch filename portion of pathname.'''\n",
    "    plist = pathname.split('/')\n",
    "    fname, fext = os.path.splitext(plist[len(plist)-1])\n",
    "    return fname\n",
    "\n",
    "def fetch_station_list():\n",
    "    '''Return list of available stations given collection of summary files on disk.'''\n",
    "    station_list = []\n",
    "    raw_files = os.path.join(NOAA_STATION_SUMMARY_PATH,'','*_sum.csv')\n",
    "    for index, fname in enumerate(glob.glob(raw_files)):\n",
    "        f = get_filename(fname).split('_')[0]\n",
    "        station_list.append(str(f))\n",
    "    return station_list\n",
    "\n",
    "USA_STATION_LIST = fetch_station_list()\n",
    "\n",
    "def gather_states(fname,stations): \n",
    "    '''Return a list of unique State abbreviations. Weather station data exists for these states.'''\n",
    "    state_list = []\n",
    "    with open(fname, 'r', encoding='utf-8') as f:\n",
    "        lines = f.readlines()\n",
    "        f.close()\n",
    "        for line in lines:\n",
    "            r = noaa_gather_station_detail(line,stations)\n",
    "            state_list += r\n",
    "    df_unique_states = pd.DataFrame(state_list,columns=station_detail_colnames).sort('State').State.unique()\n",
    "    return df_unique_states.tolist()\n",
    "\n",
    "def noaa_gather_station_detail(line,slist):\n",
    "    '''Build a list of station tuples for stations in the USA.'''\n",
    "    station_tuple_list = []\n",
    "    station_id_key = line[0:3]\n",
    "    if station_id_key == 'USC' or station_id_key == 'USW': \n",
    "        fields = struct.unpack('12s9s10s7s2s30s', line[0:70].encode())\n",
    "        if fields[0].decode().strip() in slist:\n",
    "            station_tuple = dict(station_detail_rec_template)\n",
    "            station_tuple['StationID'] = fields[0].decode().strip()\n",
    "            station_tuple['State'] = fields[4].decode().strip()\n",
    "            station_tuple['Name'] = fields[5].decode().strip()\n",
    "            station_tuple['Latitude'] = fields[1].decode().strip()\n",
    "            station_tuple['Longitude'] = fields[2].decode().strip()\n",
    "            qt = \"{0} at {1} in {2}\".format(fields[0].decode().strip(),fields[5].decode().strip(),fields[4].decode().strip())\n",
    "            station_tuple['QueryTag'] = qt\n",
    "            station_tuple_list.append(station_tuple)\n",
    "    return station_tuple_list\n",
    "\n",
    "USA_STATES_WITH_STATIONS = gather_states(STATION_DETAIL_FILE,USA_STATION_LIST)\n",
    "\n",
    "def process_station_detail_for_state(fname,stations,statecode): \n",
    "    '''Return dataframe of station detail for specified state.'''\n",
    "    station_list = []\n",
    "    with open(fname, 'r', encoding='utf-8') as f:\n",
    "        lines = f.readlines()\n",
    "        f.close()\n",
    "        for line in lines:\n",
    "            r = noaa_build_station_detail_for_state(line,stations,statecode)\n",
    "            station_list += r\n",
    "    return pd.DataFrame(station_list,columns=station_detail_colnames)\n",
    "\n",
    "def noaa_build_station_detail_for_state(line,slist,statecode):\n",
    "    '''Build a list of station tuples for the specified state in the USA.'''\n",
    "    station_tuple_list = []\n",
    "    station_id_key = line[0:3]\n",
    "    if station_id_key == 'USC' or station_id_key == 'USW':\n",
    "        fields = struct.unpack('12s9s10s7s2s30s', line[0:70].encode())\n",
    "        if ((fields[0].decode().strip() in slist) and (fields[4].decode().strip() == statecode)): \n",
    "            station_tuple = dict(station_detail_rec_template)\n",
    "            station_tuple['StationID'] = fields[0].decode().strip()\n",
    "            station_tuple['State'] = fields[4].decode().strip()\n",
    "            station_tuple['Name'] = fields[5].decode().strip()\n",
    "            station_tuple['Latitude'] = fields[1].decode().strip()\n",
    "            station_tuple['Longitude'] = fields[2].decode().strip()\n",
    "            qt = \"Station {0} in {1} at {2}\".format(fields[0].decode().strip(),fields[4].decode().strip(),fields[5].decode().strip())\n",
    "            station_tuple['QueryTag'] = qt\n",
    "            station_tuple_list.append(station_tuple)\n",
    "    return station_tuple_list\n",
    "\n",
    "df = process_station_detail_for_state(STATION_DETAIL_FILE,USA_STATION_LIST,\"NY\")\n",
    "df.tail()"
   ]
  },
  {
   "cell_type": "code",
   "execution_count": null,
   "metadata": {
    "collapsed": false
   },
   "outputs": [],
   "source": [
    "import numpy as np\n",
    "import folium\n",
    "from IPython.display import HTML\n",
    "\n",
    "def display_map(m, height=500):\n",
    "    \"\"\"Takes a folium instance and embed HTML.\"\"\"\n",
    "    m._build_map()\n",
    "    srcdoc = m.HTML.replace('\"', '&quot;')\n",
    "    embed = '<iframe srcdoc=\"{0}\" style=\"width: 100%; height: {1}px; border: none\"></iframe>'.format(srcdoc, height)\n",
    "    return embed\n",
    "\n",
    "def render_map(df,height=500):\n",
    "    centerpoint_latitude = np.mean(df.Latitude.astype(float))\n",
    "    centerpoint_longitude = np.mean(df.Longitude.astype(float))\n",
    "    map_obj = folium.Map(location=[centerpoint_latitude, centerpoint_longitude],zoom_start=6)\n",
    "    for index, row in df.iterrows():\n",
    "        map_obj.simple_marker([row.Latitude, row.Longitude], popup=row.QueryTag)\n",
    "    return display_map(map_obj)"
   ]
  },
  {
   "cell_type": "code",
   "execution_count": null,
   "metadata": {
    "collapsed": false
   },
   "outputs": [],
   "source": [
    "map_doc = render_map(df)"
   ]
  },
  {
   "cell_type": "code",
   "execution_count": null,
   "metadata": {
    "collapsed": true
   },
   "outputs": [],
   "source": [
    "from urth.widgets.widget_channels import channel\n",
    "channel(\"noaaquery\").set(\"theMap\", map_doc)"
   ]
  },
  {
   "cell_type": "code",
   "execution_count": null,
   "metadata": {
    "collapsed": false
   },
   "outputs": [],
   "source": [
    "%%html\n",
    "<template id=\"narrationContent\" is=\"urth-core-bind\" channel=\"noaaquery\">\n",
    "    <div id=\"map\">\n",
    "        <urth-raw-html html=\"{{theMap}}\"/>\n",
    "    </div>\n",
    "</template>"
   ]
  },
  {
   "cell_type": "code",
   "execution_count": null,
   "metadata": {
    "collapsed": false
   },
   "outputs": [],
   "source": [
    "map_doc"
   ]
  }
 ],
 "metadata": {
  "kernelspec": {
   "display_name": "Python 3",
   "language": "python",
   "name": "python3"
  },
  "language_info": {
   "codemirror_mode": {
    "name": "ipython",
    "version": 3
   },
   "file_extension": ".py",
   "mimetype": "text/x-python",
   "name": "python",
   "nbconvert_exporter": "python",
   "pygments_lexer": "ipython3",
   "version": "3.4.3"
  }
 },
 "nbformat": 4,
 "nbformat_minor": 0
}
