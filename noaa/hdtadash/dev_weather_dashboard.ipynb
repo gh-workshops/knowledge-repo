{
 "cells": [
  {
   "cell_type": "markdown",
   "metadata": {
    "urth": {
     "dashboard": {
      "layout": {
       "col": 0,
       "height": 4,
       "row": 0,
       "width": 6
      }
     }
    }
   },
   "source": [
    "# NOAA Weather Analysis\n",
    "\n",
    "### Frequency of Daily High and Low Record Temperatures"
   ]
  },
  {
   "cell_type": "markdown",
   "metadata": {
    "urth": {
     "dashboard": {
      "layout": {
       "col": 0,
       "height": 20,
       "row": 131,
       "width": 12
      }
     }
    }
   },
   "source": [
    "\n",
    "## Analysis\n",
    "\n",
    "### Goal\n",
    "Given historical data for a weather station in the US, what is the frequency for new high or low temperature records?\n",
    "\n",
    ">If there is scientific evidence of extreme fluctuations in our weather patterns due to human impact to the environment, then we should be able to identify significant factual examples of increases in the frequency in extreme temperature changes within the weather station data.\n",
    "\n",
    "There has been a great deal of discussion around climate change and global warming. Since NOAA has made their data public, let us explore the data ourselves and see what insights we can discover. \n",
    "\n",
    "### General Analytical Questions\n",
    "\n",
    "1. For each of the possible 365 days of the year that a specific US weather station has gathered data, can we identify the frequency at which daily High and Low temperature records are broken.\n",
    "2. Does the historical *frequency* of daily temperature records (High or Low) in the US provide statistical evidence of dramatic climate change?\n",
    "3. For a given weather station, what is the longest duration of daily temperature record (High or Low) in the US?\n",
    "\n",
    "### Approach\n",
    "\n",
    "* This analysis is based on a <font color=\"green\">15-March-2015</font> snapshot of the Global Historical Climatology Network (GHCN) dataset.\n",
    "* This analysis leverages **Historical Daily Summary** weather station information that was generated using data derived from [reproducible research](https://github.com/knowledgeanyhow/notebooks/blob/master/noaa/hdta/etl/noaa_hdta_etl.ipynb). This summary data captures information about a given day throughout history at a specific weather station in the US. This dataset contains 365 rows where each row depicts the aggregated low and high record temperatures for a specific day throughout the history of the weather station. \n",
    "* Each US weather station is associated with a single CSV file that contains historical daily summary data.\n",
    "* All temperatures reported in Fahrenheit."
   ]
  },
  {
   "cell_type": "markdown",
   "metadata": {
    "urth": {
     "dashboard": {
      "hidden": true
     }
    }
   },
   "source": [
    "## Environment Setup\n",
    "\n",
    "This noteboook leverages the several Jupyter Incubation Extensions (*urth_components*):\n",
    "\n",
    "* [Declarative Widgets](https://github.com/jupyter-incubator/declarativewidgets) \n",
    "* [Dynamic Dashboards](https://github.com/jupyter-incubator/dashboards)\n",
    "\n",
    "It also depends on a custom polymer widget:\n",
    "```\n",
    "urth-raw-html.html\n",
    "```"
   ]
  },
  {
   "cell_type": "markdown",
   "metadata": {
    "urth": {
     "dashboard": {
      "hidden": true
     }
    }
   },
   "source": [
    "### Import Python Dependencies\n",
    "\n",
    "Depending on the state of your IPython environment, you may need to pre-instal a few dependencies:\n",
    "```\n",
    "    $ pip install seaborn folium\n",
    "```"
   ]
  },
  {
   "cell_type": "code",
   "execution_count": 2,
   "metadata": {
    "collapsed": true,
    "urth": {
     "dashboard": {}
    }
   },
   "outputs": [],
   "source": [
    "%matplotlib inline"
   ]
  },
  {
   "cell_type": "code",
   "execution_count": 3,
   "metadata": {
    "collapsed": false,
    "urth": {
     "dashboard": {
      "hidden": true
     }
    }
   },
   "outputs": [],
   "source": [
    "import os\n",
    "import struct\n",
    "import glob\n",
    "import pandas as pd\n",
    "import numpy as np\n",
    "import datetime as dt\n",
    "import matplotlib.pyplot as plt\n",
    "import seaborn as sns\n",
    "import folium\n",
    "from IPython.display import HTML\n",
    "from IPython.display import Javascript, display"
   ]
  },
  {
   "cell_type": "markdown",
   "metadata": {
    "urth": {
     "dashboard": {
      "hidden": true
     }
    }
   },
   "source": [
    "### Load urth components"
   ]
  },
  {
   "cell_type": "code",
   "execution_count": 4,
   "metadata": {
    "collapsed": false,
    "urth": {
     "dashboard": {
      "hidden": true
     }
    }
   },
   "outputs": [
    {
     "data": {
      "text/html": [
       "<link rel=\"import\" href=\"urth_components/paper-dropdown-menu/paper-dropdown-menu.html\" is='urth-core-import' package='PolymerElements/paper-dropdown-menu'>\n",
       "<link rel=\"import\" href=\"urth_components/paper-menu/paper-menu.html\" is='urth-core-import' package='PolymerElements/paper-menu'>\n",
       "<link rel=\"import\" href=\"urth_components/paper-item/paper-item.html\" is='urth-core-import' package='PolymerElements/paper-item'>\n",
       "<link rel=\"import\" href=\"urth_components/paper-button/paper-button.html\" is='urth-core-import' package='PolymerElements/paper-button'>\n",
       "<link rel=\"import\" href=\"urth_components/paper-card/paper-card.html\" is='urth-core-import' package='PolymerElements/paper-card'>\n",
       "<link rel=\"import\" href=\"urth_components/paper-slider/paper-slider.html\" is='urth-core-import' package='PolymerElements/paper-slider'>\n",
       "<link rel=\"import\" href=\"urth_components/google-map/google-map.html\" is='urth-core-import' package='GoogleWebComponents/google-map'>\n",
       "<link rel=\"import\" href=\"urth_components/google-map/google-map-marker.html\" is='urth-core-import' package='GoogleWebComponents/google-map'>\n",
       "<link rel=\"import\" href=\"urth_components/urth-viz-table/urth-viz-table.html\" is='urth-core-import'>\n",
       "<link rel=\"import\" href=\"urth_components/urth-viz-chart/urth-viz-chart.html\" is='urth-core-import'>\n",
       "<!-- Add custom Polymer Widget for injecting raw HTML into a urth-core widget -->\n",
       "<link rel=\"import\" href=\"./urth-raw-html.html\">\n",
       "<!-- HACK: Use Property Watch patch for v0.1.0 of declarativewidgets; This can be removed for v0.1.1 -->\n",
       "<link rel=\"import\" href=\"./urth-core-watch.html\">"
      ],
      "text/plain": [
       "<IPython.core.display.HTML object>"
      ]
     },
     "metadata": {},
     "output_type": "display_data"
    }
   ],
   "source": [
    "%%html\n",
    "<link rel=\"import\" href=\"urth_components/paper-dropdown-menu/paper-dropdown-menu.html\" is='urth-core-import' package='PolymerElements/paper-dropdown-menu'>\n",
    "<link rel=\"import\" href=\"urth_components/paper-menu/paper-menu.html\" is='urth-core-import' package='PolymerElements/paper-menu'>\n",
    "<link rel=\"import\" href=\"urth_components/paper-item/paper-item.html\" is='urth-core-import' package='PolymerElements/paper-item'>\n",
    "<link rel=\"import\" href=\"urth_components/paper-button/paper-button.html\" is='urth-core-import' package='PolymerElements/paper-button'>\n",
    "<link rel=\"import\" href=\"urth_components/paper-card/paper-card.html\" is='urth-core-import' package='PolymerElements/paper-card'>\n",
    "<link rel=\"import\" href=\"urth_components/paper-slider/paper-slider.html\" is='urth-core-import' package='PolymerElements/paper-slider'>\n",
    "<link rel=\"import\" href=\"urth_components/google-map/google-map.html\" is='urth-core-import' package='GoogleWebComponents/google-map'>\n",
    "<link rel=\"import\" href=\"urth_components/google-map/google-map-marker.html\" is='urth-core-import' package='GoogleWebComponents/google-map'>\n",
    "<link rel=\"import\" href=\"urth_components/urth-viz-table/urth-viz-table.html\" is='urth-core-import'>\n",
    "<link rel=\"import\" href=\"urth_components/urth-viz-chart/urth-viz-chart.html\" is='urth-core-import'>\n",
    "<!-- Add custom Polymer Widget for injecting raw HTML into a urth-core widget -->\n",
    "<link rel=\"import\" href=\"./urth-raw-html.html\">\n",
    "<!-- HACK: Use Property Watch patch for v0.1.0 of declarativewidgets; This can be removed for v0.1.1 -->\n",
    "<link rel=\"import\" href=\"./urth-core-watch.html\">"
   ]
  },
  {
   "cell_type": "markdown",
   "metadata": {
    "urth": {
     "dashboard": {
      "hidden": true
     }
    }
   },
   "source": [
    "### Declare Globals"
   ]
  },
  {
   "cell_type": "code",
   "execution_count": 5,
   "metadata": {
    "collapsed": true,
    "urth": {
     "dashboard": {}
    }
   },
   "outputs": [],
   "source": [
    "DATA_STATE_STATION_LIST = None\n",
    "DATA_STATION_DETAIL_RESULTS = None\n",
    "DATA_FREQUENCY_RESULTS = None"
   ]
  },
  {
   "cell_type": "markdown",
   "metadata": {
    "urth": {
     "dashboard": {
      "hidden": true
     }
    }
   },
   "source": [
    "### Prepare Filesystem\n",
    "\n",
    "#### Data Preparation Options\n",
    "\n",
    "1. Use the [NOAA data Munging](https://github.com/ibm-et/jupyter-samples/tree/master/noaa/etl) project to generate CSV files for the latest NOAA data.\n",
    "2. Use the sample **March 16, 2015** snapshot provided in this repo and do one of the following:\n",
    "\n",
    "    * Open a terminal session and run these commands:\n",
    "    \n",
    "    ```\n",
    "    cd /home/main/notebooks/noaa/hdtadash/data/\n",
    "    tar -xvf station_summaries.tar\n",
    "    ```\n",
    "    \n",
    "    * Enable, execute and then disable the following bash cell "
   ]
  },
  {
   "cell_type": "raw",
   "metadata": {
    "urth": {
     "dashboard": {}
    }
   },
   "source": [
    "%%bash\n",
    "cd /home/main/notebooks/noaa/hdtadash/data/\n",
    "tar -xvf station_summaries.tar"
   ]
  },
  {
   "cell_type": "markdown",
   "metadata": {
    "urth": {
     "dashboard": {
      "hidden": true
     }
    }
   },
   "source": [
    "#### Plot Storage\n",
    "\n",
    "Earlier versions of this notebook stored chart images to disk. We used a specific directory to store plot images (*.png files). However, this approach does not work if the notebook user would like to deploy as a local application. "
   ]
  },
  {
   "cell_type": "code",
   "execution_count": 6,
   "metadata": {
    "collapsed": true,
    "urth": {
     "dashboard": {}
    }
   },
   "outputs": [],
   "source": [
    "IMAGE_DIRECTORY = \"plotit\"\n",
    "\n",
    "def image_cleanup(dirname):\n",
    "    if not os.path.exists(dirname):\n",
    "        os.makedirs(dirname)\n",
    "    else:\n",
    "        for filePath in glob.glob(dirname+\"/*.png\"):\n",
    "            if os.path.isfile(filePath):\n",
    "                os.remove(filePath)\n",
    "\n",
    "#image_cleanup(IMAGE_DIRECTORY)"
   ]
  },
  {
   "cell_type": "markdown",
   "metadata": {
    "urth": {
     "dashboard": {
      "hidden": true
     }
    }
   },
   "source": [
    "## Data Munging\n",
    "\n",
    "In this section of the notebook we will define the necessary data extraction, transformation and loading functions for the desired interactive dashboard."
   ]
  },
  {
   "cell_type": "code",
   "execution_count": 7,
   "metadata": {
    "collapsed": false,
    "urth": {
     "dashboard": {}
    }
   },
   "outputs": [],
   "source": [
    "# Use this global variable to specify the path for station summary files.\n",
    "NOAA_STATION_SUMMARY_PATH = \"/home/main/notebooks/noaa/hdtadash/data/\"\n",
    "\n",
    "# Use this global variable to specify the path for the GHCND Station Directory\n",
    "STATION_DETAIL_FILE = '/home/main/notebooks/noaa/hdtadash/data/ghcnd-stations.txt'\n",
    "\n",
    "# Station detail structures for building station lists\n",
    "station_detail_colnames = ['StationID','State','Name',\n",
    "                            'Latitude','Longitude','QueryTag']\n",
    "\n",
    "station_detail_rec_template = {'StationID': \"\",\n",
    "                                'State': \"\",\n",
    "                                'Name': \"\",\n",
    "                                'Latitude': \"\",\n",
    "                                'Longitude': \"\",\n",
    "                                'QueryTag': \"\"\n",
    "                                }\n",
    "\n",
    "# -----------------------------------\n",
    "# Station Detail Processing\n",
    "# -----------------------------------\n",
    "def get_filename(pathname):\n",
    "    '''Fetch filename portion of pathname.'''\n",
    "    plist = pathname.split('/')\n",
    "    fname, fext = os.path.splitext(plist[len(plist)-1])\n",
    "    return fname\n",
    "\n",
    "def fetch_station_list():\n",
    "    '''Return list of available stations given collection of summary files on disk.'''\n",
    "    station_list = []\n",
    "    raw_files = os.path.join(NOAA_STATION_SUMMARY_PATH,'','*_sum.csv')\n",
    "    for index, fname in enumerate(glob.glob(raw_files)):\n",
    "        f = get_filename(fname).split('_')[0]\n",
    "        station_list.append(str(f))\n",
    "    return station_list\n",
    "\n",
    "USA_STATION_LIST = fetch_station_list()\n",
    "\n",
    "def gather_states(fname,stations): \n",
    "    '''Return a list of unique State abbreviations. Weather station data exists for these states.'''\n",
    "    state_list = []\n",
    "    with open(fname, 'r', encoding='utf-8') as f:\n",
    "        lines = f.readlines()\n",
    "        f.close()\n",
    "        for line in lines:\n",
    "            r = noaa_gather_station_detail(line,stations)\n",
    "            state_list += r\n",
    "    df_unique_states = pd.DataFrame(state_list,columns=station_detail_colnames).sort('State').State.unique()\n",
    "    return df_unique_states.tolist()\n",
    "\n",
    "def noaa_gather_station_detail(line,slist):\n",
    "    '''Build a list of station tuples for stations in the USA.'''\n",
    "    station_tuple_list = []\n",
    "    station_id_key = line[0:3]\n",
    "    if station_id_key == 'USC' or station_id_key == 'USW': \n",
    "        fields = struct.unpack('12s9s10s7s2s30s', line[0:70].encode())\n",
    "        if fields[0].decode().strip() in slist:\n",
    "            station_tuple = dict(station_detail_rec_template)\n",
    "            station_tuple['StationID'] = fields[0].decode().strip()\n",
    "            station_tuple['State'] = fields[4].decode().strip()\n",
    "            station_tuple['Name'] = fields[5].decode().strip()\n",
    "            station_tuple['Latitude'] = fields[1].decode().strip()\n",
    "            station_tuple['Longitude'] = fields[2].decode().strip()\n",
    "            qt = \"{0} at {1} in {2}\".format(fields[0].decode().strip(),fields[5].decode().strip(),fields[4].decode().strip())\n",
    "            station_tuple['QueryTag'] = qt\n",
    "            station_tuple_list.append(station_tuple)\n",
    "    return station_tuple_list\n",
    "\n",
    "USA_STATES_WITH_STATIONS = gather_states(STATION_DETAIL_FILE,USA_STATION_LIST)\n",
    "\n",
    "def process_station_detail_for_state(fname,stations,statecode): \n",
    "    '''Return dataframe of station detail for specified state.'''\n",
    "    station_list = []\n",
    "    with open(fname, 'r', encoding='utf-8') as f:\n",
    "        lines = f.readlines()\n",
    "        f.close()\n",
    "        for line in lines:\n",
    "            r = noaa_build_station_detail_for_state(line,stations,statecode)\n",
    "            station_list += r\n",
    "    return pd.DataFrame(station_list,columns=station_detail_colnames)\n",
    "\n",
    "def noaa_build_station_detail_for_state(line,slist,statecode):\n",
    "    '''Build a list of station tuples for the specified state in the USA.'''\n",
    "    station_tuple_list = []\n",
    "    station_id_key = line[0:3]\n",
    "    if station_id_key == 'USC' or station_id_key == 'USW':\n",
    "        fields = struct.unpack('12s9s10s7s2s30s', line[0:70].encode())\n",
    "        if ((fields[0].decode().strip() in slist) and (fields[4].decode().strip() == statecode)): \n",
    "            station_tuple = dict(station_detail_rec_template)\n",
    "            station_tuple['StationID'] = fields[0].decode().strip()\n",
    "            station_tuple['State'] = fields[4].decode().strip()\n",
    "            station_tuple['Name'] = fields[5].decode().strip()\n",
    "            station_tuple['Latitude'] = fields[1].decode().strip()\n",
    "            station_tuple['Longitude'] = fields[2].decode().strip()\n",
    "            qt = \"Station {0} in {1} at {2}\".format(fields[0].decode().strip(),fields[4].decode().strip(),fields[5].decode().strip())\n",
    "            station_tuple['QueryTag'] = qt\n",
    "            station_tuple_list.append(station_tuple)\n",
    "    return station_tuple_list\n",
    "\n",
    "# We can examine derived station detail data.\n",
    "#process_station_detail_for_state(STATION_DETAIL_FILE,USA_STATION_LIST,\"NE\")"
   ]
  },
  {
   "cell_type": "markdown",
   "metadata": {
    "urth": {
     "dashboard": {
      "hidden": true
     }
    }
   },
   "source": [
    "## Exploratory Analysis\n",
    "\n",
    "In this section of the notebook we will define the necessary computational functions for the desired interactive dashboard."
   ]
  },
  {
   "cell_type": "code",
   "execution_count": 8,
   "metadata": {
    "collapsed": false,
    "urth": {
     "dashboard": {}
    }
   },
   "outputs": [],
   "source": [
    "# -----------------------------------\n",
    "# Station Computation Methods\n",
    "# -----------------------------------\n",
    "\n",
    "month_abbrev = { 1: 'Jan', 2: 'Feb', 3: 'Mar', 4: 'Apr',\n",
    "                    5: 'May', 6: 'Jun', 7: 'Jul', 8: 'Aug',\n",
    "                    9: 'Sep', 10: 'Oct', 11: 'Nov', 12: 'Dec'\n",
    "                }\n",
    "\n",
    "def compute_years_of_station_data(df):\n",
    "    '''Compute years of service for the station.'''\n",
    "    yrs = dt.date.today().year-min(df['FirstYearOfRecord'])\n",
    "    return yrs\n",
    "    \n",
    "def compute_tmax_record_quantity(df,freq):\n",
    "    '''Compute number of days where maximum temperature records were greater than frequency factor.'''\n",
    "    threshold = int(freq)\n",
    "    df_result = df.query('(TMaxRecordCount > @threshold)', engine='python')\n",
    "    return df_result\n",
    "\n",
    "def compute_tmin_record_quantity(df,freq):\n",
    "    '''Compute number of days where minimum temperature records were greater than frequency factor.'''\n",
    "    threshold = int(freq)\n",
    "    df_result = df.query('(TMinRecordCount > @threshold)', engine='python')\n",
    "    return df_result\n",
    "    \n",
    "def fetch_station_data(stationid):\n",
    "    '''Return dataframe for station summary file.'''\n",
    "    fname = os.path.join(NOAA_STATION_SUMMARY_PATH,'',stationid+'_sum.csv')\n",
    "    return pd.DataFrame.from_csv(fname)\n",
    "\n",
    "def create_day_identifier(month,day):\n",
    "    '''Return dd-mmm string.'''\n",
    "    return str(day)+'-'+month_abbrev[int(month)]\n",
    "    \n",
    "def create_date_list(mlist,dlist):\n",
    "    '''Return list of formated date strings.'''\n",
    "    mv = list(mlist.values())\n",
    "    dv = list(dlist.values())\n",
    "    new_list = []\n",
    "    for index, value in enumerate(mv):\n",
    "        new_list.append(create_day_identifier(value,dv[index]))\n",
    "    return new_list\n",
    "\n",
    "def create_record_date_list(mlist,dlist,ylist):\n",
    "    '''Return list of dates for max/min record events.'''\n",
    "    mv = list(mlist.values())\n",
    "    dv = list(dlist.values())\n",
    "    yv = list(ylist.values())\n",
    "    new_list = []\n",
    "    for index, value in enumerate(mv):      \n",
    "        new_list.append(dt.date(yv[index],value,dv[index]))\n",
    "    return new_list\n"
   ]
  },
  {
   "cell_type": "code",
   "execution_count": 9,
   "metadata": {
    "collapsed": true,
    "urth": {
     "dashboard": {}
    }
   },
   "outputs": [],
   "source": [
    "# Use the Polymer Channel API to establish two-way binding between elements and data.\n",
    "from urth.widgets.widget_channels import channel\n",
    "channel(\"noaaquery\").set(\"states\", USA_STATES_WITH_STATIONS)\n",
    "channel(\"noaaquery\").set(\"recordTypeOptions\", [\"Low\",\"High\"])\n",
    "channel(\"noaaquery\").set(\"recordOccuranceOptions\", list(range(4, 16)))\n",
    "channel(\"noaaquery\").set(\"stationList\",USA_STATION_LIST)\n",
    "channel(\"noaaquery\").set(\"stationDetail\",STATION_DETAIL_FILE)\n",
    "channel(\"noaaquery\").set(\"narrationToggleOptions\", [\"Yes\",\"No\"])\n",
    "channel(\"noaaquery\").set(\"cleanupToggleOptions\", [\"Yes\",\"No\"])\n",
    "channel(\"noaaquery\").set(\"cleanupPreference\", \"No\")\n",
    "channel(\"noaaquery\").set(\"displayTypeOptions\", [\"Data\",\"Map\"])\n",
    "\n",
    "def reset_settings():\n",
    "    channel(\"noaaquery\").set(\"isNarration\", True)\n",
    "    channel(\"noaaquery\").set(\"isMap\", True)\n",
    "    channel(\"noaaquery\").set(\"isNewQuery\", True)\n",
    "    channel(\"noaaquery\").set(\"stationResultsReady\", \"\")\n",
    "    \n",
    "reset_settings()"
   ]
  },
  {
   "cell_type": "markdown",
   "metadata": {
    "urth": {
     "dashboard": {
      "hidden": true
     }
    }
   },
   "source": [
    "## Visualization\n",
    "\n",
    "In this section of the notebook we will define the widgets and supporting functions for the construction of an interactive dashboard. See [Polymer Data Bindings](https://www.polymer-project.org/1.0/docs/devguide/data-binding.html) for more details."
   ]
  },
  {
   "cell_type": "markdown",
   "metadata": {
    "urth": {
     "dashboard": {
      "hidden": true
     }
    }
   },
   "source": [
    "### Narration Widget\n",
    "Provide some introductory content for the user."
   ]
  },
  {
   "cell_type": "code",
   "execution_count": 10,
   "metadata": {
    "collapsed": false,
    "urth": {
     "dashboard": {
      "layout": {
       "col": 6,
       "height": 8,
       "row": 11,
       "width": 6
      }
     }
    }
   },
   "outputs": [
    {
     "data": {
      "text/html": [
       "<a name=\"narrationdata\"></a>\n",
       "<template id=\"narrationContent\" is=\"urth-core-bind\" channel=\"noaaquery\">\n",
       "    <template is=\"dom-if\" if=\"{{isNarration}}\">\n",
       "        <p>This application allows the user to explore historical NOAA data to observer the actual frequency at which weather stations in the USA have actually experienced new high and low temperature records.</p>\n",
       "        <blockquote>Are you able to identify a significant number of temperature changes within the weather station data?</blockquote>\n",
       "        <blockquote>Would you consider these results representative of extreme weather changes?</blockquote>\n",
       "    </paper-card>\n",
       "</template>"
      ],
      "text/plain": [
       "<IPython.core.display.HTML object>"
      ]
     },
     "metadata": {},
     "output_type": "display_data"
    }
   ],
   "source": [
    "%%html\n",
    "<a name=\"narrationdata\"></a>\n",
    "<template id=\"narrationContent\" is=\"urth-core-bind\" channel=\"noaaquery\">\n",
    "    <template is=\"dom-if\" if=\"{{isNarration}}\">\n",
    "        <p>This application allows the user to explore historical NOAA data to observer the actual frequency at which weather stations in the USA have actually experienced new high and low temperature records.</p>\n",
    "        <blockquote>Are you able to identify a significant number of temperature changes within the weather station data?</blockquote>\n",
    "        <blockquote>Would you consider these results representative of extreme weather changes?</blockquote>\n",
    "    </paper-card>\n",
    "</template>"
   ]
  },
  {
   "cell_type": "markdown",
   "metadata": {
    "urth": {
     "dashboard": {
      "hidden": true
     }
    }
   },
   "source": [
    "### Weather Channel Widget\n",
    "Display the current USA national weather map."
   ]
  },
  {
   "cell_type": "code",
   "execution_count": 11,
   "metadata": {
    "collapsed": false,
    "urth": {
     "dashboard": {
      "layout": {
       "col": 6,
       "height": 11,
       "row": 0,
       "width": 6
      }
     }
    }
   },
   "outputs": [
    {
     "data": {
      "text/html": [
       "<template id=\"weatherchannel_currentusamap\" is=\"urth-core-bind\" channel=\"noaaquery\">\n",
       "    <div id=\"wc_curmap\">\n",
       "        <center><embed src=\"http://i.imwx.com/images/maps/current/curwx_600x405.jpg\" width=\"500\" height=\"300\"></center>\n",
       "    <div id=\"wc_map\">\n",
       "</template>"
      ],
      "text/plain": [
       "<IPython.core.display.HTML object>"
      ]
     },
     "metadata": {},
     "output_type": "display_data"
    }
   ],
   "source": [
    "%%html\n",
    "<template id=\"weatherchannel_currentusamap\" is=\"urth-core-bind\" channel=\"noaaquery\">\n",
    "    <div id=\"wc_curmap\">\n",
    "        <center><embed src=\"http://i.imwx.com/images/maps/current/curwx_600x405.jpg\" width=\"500\" height=\"300\"></center>\n",
    "    <div id=\"wc_map\">\n",
    "</template>"
   ]
  },
  {
   "cell_type": "markdown",
   "metadata": {
    "urth": {
     "dashboard": {
      "hidden": true
     }
    }
   },
   "source": [
    "### Preferences Widget\n",
    "\n",
    "This *composite widget* allows the user to control several visualization switches:\n",
    "\n",
    "* **Narration**: This dropdown menu allows the user to hide/show narrative content within the dashboard.\n",
    "* **Display Type**: This dropdown menu allows the user to toggle between geospacial and raw data visualizations.\n",
    "* **Storage Management**: This dropdown menu allows the user to toggle the frequency of storage cleanup."
   ]
  },
  {
   "cell_type": "code",
   "execution_count": 12,
   "metadata": {
    "collapsed": true,
    "urth": {
     "dashboard": {}
    }
   },
   "outputs": [],
   "source": [
    "def process_preferences(narrativepref,viewpref):\n",
    "    if narrativepref == \"Yes\":\n",
    "        channel(\"noaaquery\").set(\"isNarration\", True)\n",
    "    else:\n",
    "        channel(\"noaaquery\").set(\"isNarration\",\"\")\n",
    "    if viewpref == \"Map\":\n",
    "        channel(\"noaaquery\").set(\"isMap\", True)\n",
    "    else:\n",
    "        channel(\"noaaquery\").set(\"isMap\", \"\")\n",
    "    return"
   ]
  },
  {
   "cell_type": "code",
   "execution_count": 13,
   "metadata": {
    "collapsed": false,
    "urth": {
     "dashboard": {
      "hidden": true
     }
    }
   },
   "outputs": [
    {
     "data": {
      "text/html": [
       "<a name=\"prefsettings\"></a>\n",
       "<template id=\"setPreferences\" is=\"urth-core-bind\" channel=\"noaaquery\">\n",
       "    <urth-core-function id=\"applySettingFunc\" \n",
       "        ref=\"process_preferences\" \n",
       "        arg-narrativepref=\"{{narrationPreference}}\"\n",
       "        arg-viewpref=\"{{displayPreference}}\" auto>\n",
       "    </urth-core-function>\n",
       "    <paper-card heading=\"Preferences\" elevation=\"1\">\n",
       "        <div class=\"card-content\">\n",
       "            <p class=\"widget\">Select a narration preference to toggle informative content.\n",
       "            <paper-dropdown-menu label=\"Show Narration\" selected-item-label=\"{{narrationPreference}}\" noink>\n",
       "                <paper-menu class=\"dropdown-content\" selected=\"[[narrationPreference]]\" attr-for-selected=\"label\">\n",
       "                    <template is=\"dom-repeat\" items=\"[[narrationToggleOptions]]\">\n",
       "                        <paper-item label=\"[[item]]\">[[item]]</paper-item>\n",
       "                    </template>\n",
       "                </paper-menu>\n",
       "            </paper-dropdown-menu></p>\n",
       "            <p class=\"widget\">Would you like a geospacial view of a selected weather station?\n",
       "            <paper-dropdown-menu label=\"Select Display Type\" selected-item-label=\"{{displayPreference}}\" noink>\n",
       "                <paper-menu class=\"dropdown-content\" selected=\"[[displayPreference]]\" attr-for-selected=\"label\">\n",
       "                    <template is=\"dom-repeat\" items=\"[[displayTypeOptions]]\">\n",
       "                        <paper-item label=\"[[item]]\">[[item]]</paper-item>\n",
       "                    </template>\n",
       "                </paper-menu>\n",
       "            </paper-dropdown-menu></p>\n",
       "            <p class=\"widget\">Would you like to purge disk storage more frequently?\n",
       "            <paper-dropdown-menu label=\"Manage Storage\" selected-item-label=\"{{cleanupPreference}}\" noink>\n",
       "                <paper-menu class=\"dropdown-content\" selected=\"[[cleanupPreference]]\" attr-for-selected=\"label\">\n",
       "                    <template is=\"dom-repeat\" items=\"[[cleanupToggleOptions]]\">\n",
       "                        <paper-item label=\"[[item]]\">[[item]]</paper-item>\n",
       "                    </template>\n",
       "                </paper-menu>\n",
       "            </paper-dropdown-menu></p>\n",
       "        </div>\n",
       "    </paper-card>\n",
       "</template>"
      ],
      "text/plain": [
       "<IPython.core.display.HTML object>"
      ]
     },
     "metadata": {},
     "output_type": "display_data"
    }
   ],
   "source": [
    "%%html\n",
    "<a name=\"prefsettings\"></a>\n",
    "<template id=\"setPreferences\" is=\"urth-core-bind\" channel=\"noaaquery\">\n",
    "    <urth-core-function id=\"applySettingFunc\" \n",
    "        ref=\"process_preferences\" \n",
    "        arg-narrativepref=\"{{narrationPreference}}\"\n",
    "        arg-viewpref=\"{{displayPreference}}\" auto>\n",
    "    </urth-core-function>\n",
    "    <paper-card heading=\"Preferences\" elevation=\"1\">\n",
    "        <div class=\"card-content\">\n",
    "            <p class=\"widget\">Select a narration preference to toggle informative content.\n",
    "            <paper-dropdown-menu label=\"Show Narration\" selected-item-label=\"{{narrationPreference}}\" noink>\n",
    "                <paper-menu class=\"dropdown-content\" selected=\"[[narrationPreference]]\" attr-for-selected=\"label\">\n",
    "                    <template is=\"dom-repeat\" items=\"[[narrationToggleOptions]]\">\n",
    "                        <paper-item label=\"[[item]]\">[[item]]</paper-item>\n",
    "                    </template>\n",
    "                </paper-menu>\n",
    "            </paper-dropdown-menu></p>\n",
    "            <p class=\"widget\">Would you like a geospacial view of a selected weather station?\n",
    "            <paper-dropdown-menu label=\"Select Display Type\" selected-item-label=\"{{displayPreference}}\" noink>\n",
    "                <paper-menu class=\"dropdown-content\" selected=\"[[displayPreference]]\" attr-for-selected=\"label\">\n",
    "                    <template is=\"dom-repeat\" items=\"[[displayTypeOptions]]\">\n",
    "                        <paper-item label=\"[[item]]\">[[item]]</paper-item>\n",
    "                    </template>\n",
    "                </paper-menu>\n",
    "            </paper-dropdown-menu></p>\n",
    "            <p class=\"widget\">Would you like to purge disk storage more frequently?\n",
    "            <paper-dropdown-menu label=\"Manage Storage\" selected-item-label=\"{{cleanupPreference}}\" noink>\n",
    "                <paper-menu class=\"dropdown-content\" selected=\"[[cleanupPreference]]\" attr-for-selected=\"label\">\n",
    "                    <template is=\"dom-repeat\" items=\"[[cleanupToggleOptions]]\">\n",
    "                        <paper-item label=\"[[item]]\">[[item]]</paper-item>\n",
    "                    </template>\n",
    "                </paper-menu>\n",
    "            </paper-dropdown-menu></p>\n",
    "        </div>\n",
    "    </paper-card>\n",
    "</template>"
   ]
  },
  {
   "cell_type": "markdown",
   "metadata": {
    "urth": {
     "dashboard": {
      "hidden": true
     }
    }
   },
   "source": [
    "### Dashboard Control Widget\n",
    "\n",
    "This *composite widget* allows the user to control several visualization switches:\n",
    "\n",
    "* **State Selector**: This dropdown menu allows the user to select a state for analysis. Only the data associated with the selected state will be loaded. \n",
    "* **Record Type**: This dropdown menu allows the user focus the analysis on either *High* or *Low* records.\n",
    "* **Occurance Factor**: This dropdown menu allows the user to specify the minimum number of new record events for a given calendar day. \n",
    "\n",
    "The widget uses a control method to manage interactive events."
   ]
  },
  {
   "cell_type": "code",
   "execution_count": 14,
   "metadata": {
    "collapsed": false,
    "urth": {
     "dashboard": {}
    }
   },
   "outputs": [],
   "source": [
    "def process_query(fname,stations,statecode,cleanuppref):\n",
    "    global DATA_STATE_STATION_LIST\n",
    "    if cleanuppref == \"Yes\":\n",
    "        image_cleanup(IMAGE_DIRECTORY)\n",
    "    reset_settings()\n",
    "    DATA_STATE_STATION_LIST = process_station_detail_for_state(fname,stations,statecode)\n",
    "    channel(\"noaaquery\").set(\"stationResultsReady\", True)\n",
    "    return DATA_STATE_STATION_LIST\n",
    "\n",
    "# We can examine stations per state data.\n",
    "#process_query(STATION_DETAIL_FILE,USA_STATION_LIST,\"NE\",\"No\")"
   ]
  },
  {
   "cell_type": "code",
   "execution_count": 15,
   "metadata": {
    "collapsed": false,
    "urth": {
     "dashboard": {
      "layout": {
       "col": 0,
       "height": 15,
       "row": 4,
       "width": 6
      }
     }
    }
   },
   "outputs": [
    {
     "data": {
      "text/html": [
       "<a name=\"loaddata\"></a>\n",
       "<template id=\"loadCard\" is=\"urth-core-bind\" channel=\"noaaquery\">\n",
       "    <urth-core-function id=\"loadDataFunc\" \n",
       "        ref=\"process_query\" \n",
       "        arg-fname=\"{{stationDetail}}\"\n",
       "        arg-stations=\"{{stationList}}\"\n",
       "        arg-statecode=\"{{stateAbbrev}}\"\n",
       "        arg-cleanuppref=\"{{cleanupPreference}}\"\n",
       "        result=\"{{stationQueryResult}}\"\n",
       "        is-ready=\"{{isloadready}}\">\n",
       "    </urth-core-function>\n",
       "    <paper-card heading=\"Query Preferences\" elevation=\"1\">\n",
       "        <div class=\"card-content\">\n",
       "            <div>\n",
       "                <p class=\"widget\">Which region of weather stations in the USA do you wish to examine?.</p>\n",
       "                <paper-dropdown-menu label=\"Select State\" selected-item-label=\"{{stateAbbrev}}\" noink>\n",
       "                    <paper-menu class=\"dropdown-content\" selected=\"{{stateAbbrev}}\" attr-for-selected=\"label\">\n",
       "                        <template is=\"dom-repeat\" items=\"[[states]]\">\n",
       "                            <paper-item label=\"[[item]]\">[[item]]</paper-item>\n",
       "                        </template>\n",
       "                    </paper-menu>\n",
       "                </paper-dropdown-menu>\n",
       "            </div>\n",
       "            <div>\n",
       "                <p class=\"widget\">Are you interested in daily minimum or maximum temperature records per station?.</p>\n",
       "                <paper-dropdown-menu label=\"Select Record Type\" selected-item-label=\"{{recType}}\" noink>\n",
       "                    <paper-menu class=\"dropdown-content\" selected=\"[[recType]]\" attr-for-selected=\"label\">\n",
       "                        <template is=\"dom-repeat\" items=\"[[recordTypeOptions]]\">\n",
       "                            <paper-item label=\"[[item]]\">[[item]]</paper-item>\n",
       "                        </template>\n",
       "                    </paper-menu>\n",
       "                </paper-dropdown-menu>\n",
       "            </div>\n",
       "            <div>\n",
       "                <p class=\"widget\">Each weather station has observed more than one new minimum or maximum temperature record event. How many new record occurrences would you consider significant enough to raise concerns about extreme weather fluctuations?.</p>\n",
       "                <paper-dropdown-menu label=\"Select Occurrence Factor\" selected-item-label=\"{{occurrenceFactor}}\" noink>\n",
       "                    <paper-menu class=\"dropdown-content\" selected=\"[[occurrenceFactor]]\" attr-for-selected=\"label\">\n",
       "                        <template is=\"dom-repeat\" items=\"[[recordOccuranceOptions]]\">\n",
       "                            <paper-item label=\"[[item]]\">[[item]]</paper-item>\n",
       "                        </template>\n",
       "                    </paper-menu>\n",
       "                </paper-dropdown-menu>\n",
       "            </div>\n",
       "        </div>\n",
       "        <div class=\"card-actions\">\n",
       "            <paper-button tabindex=\"0\" disabled=\"{{!isloadready}}\" onClick=\"loadDataFunc.invoke()\">Apply</paper-button>\n",
       "        </div>\n",
       "    </paper-card>\n",
       "</template"
      ],
      "text/plain": [
       "<IPython.core.display.HTML object>"
      ]
     },
     "metadata": {},
     "output_type": "display_data"
    }
   ],
   "source": [
    "%%html\n",
    "<a name=\"loaddata\"></a>\n",
    "<template id=\"loadCard\" is=\"urth-core-bind\" channel=\"noaaquery\">\n",
    "    <urth-core-function id=\"loadDataFunc\" \n",
    "        ref=\"process_query\" \n",
    "        arg-fname=\"{{stationDetail}}\"\n",
    "        arg-stations=\"{{stationList}}\"\n",
    "        arg-statecode=\"{{stateAbbrev}}\"\n",
    "        arg-cleanuppref=\"{{cleanupPreference}}\"\n",
    "        result=\"{{stationQueryResult}}\"\n",
    "        is-ready=\"{{isloadready}}\">\n",
    "    </urth-core-function>\n",
    "    <paper-card heading=\"Query Preferences\" elevation=\"1\">\n",
    "        <div class=\"card-content\">\n",
    "            <div>\n",
    "                <p class=\"widget\">Which region of weather stations in the USA do you wish to examine?.</p>\n",
    "                <paper-dropdown-menu label=\"Select State\" selected-item-label=\"{{stateAbbrev}}\" noink>\n",
    "                    <paper-menu class=\"dropdown-content\" selected=\"{{stateAbbrev}}\" attr-for-selected=\"label\">\n",
    "                        <template is=\"dom-repeat\" items=\"[[states]]\">\n",
    "                            <paper-item label=\"[[item]]\">[[item]]</paper-item>\n",
    "                        </template>\n",
    "                    </paper-menu>\n",
    "                </paper-dropdown-menu>\n",
    "            </div>\n",
    "            <div>\n",
    "                <p class=\"widget\">Are you interested in daily minimum or maximum temperature records per station?.</p>\n",
    "                <paper-dropdown-menu label=\"Select Record Type\" selected-item-label=\"{{recType}}\" noink>\n",
    "                    <paper-menu class=\"dropdown-content\" selected=\"[[recType]]\" attr-for-selected=\"label\">\n",
    "                        <template is=\"dom-repeat\" items=\"[[recordTypeOptions]]\">\n",
    "                            <paper-item label=\"[[item]]\">[[item]]</paper-item>\n",
    "                        </template>\n",
    "                    </paper-menu>\n",
    "                </paper-dropdown-menu>\n",
    "            </div>\n",
    "            <div>\n",
    "                <p class=\"widget\">Each weather station has observed more than one new minimum or maximum temperature record event. How many new record occurrences would you consider significant enough to raise concerns about extreme weather fluctuations?.</p>\n",
    "                <paper-dropdown-menu label=\"Select Occurrence Factor\" selected-item-label=\"{{occurrenceFactor}}\" noink>\n",
    "                    <paper-menu class=\"dropdown-content\" selected=\"[[occurrenceFactor]]\" attr-for-selected=\"label\">\n",
    "                        <template is=\"dom-repeat\" items=\"[[recordOccuranceOptions]]\">\n",
    "                            <paper-item label=\"[[item]]\">[[item]]</paper-item>\n",
    "                        </template>\n",
    "                    </paper-menu>\n",
    "                </paper-dropdown-menu>\n",
    "            </div>\n",
    "        </div>\n",
    "        <div class=\"card-actions\">\n",
    "            <paper-button tabindex=\"0\" disabled=\"{{!isloadready}}\" onClick=\"loadDataFunc.invoke()\">Apply</paper-button>\n",
    "        </div>\n",
    "    </paper-card>\n",
    "</template"
   ]
  },
  {
   "cell_type": "markdown",
   "metadata": {
    "urth": {
     "dashboard": {
      "hidden": true
     }
    }
   },
   "source": [
    "### Channel Monitor Widget\n",
    "\n",
    "This widget provides status information pertaining to properties of the dashboard."
   ]
  },
  {
   "cell_type": "code",
   "execution_count": 16,
   "metadata": {
    "collapsed": false,
    "urth": {
     "dashboard": {
      "hidden": true
     }
    }
   },
   "outputs": [
    {
     "data": {
      "text/html": [
       "<template id=\"channelMonitorWidget\" is=\"urth-core-bind\" channel=\"noaaquery\">\n",
       "    <h2 class=\"widget\">Channel Monitor</h2>\n",
       "    <p class=\"widget\"><b>Query Selections:</b></p>\n",
       "    <table border=\"1\" align=\"center\">\n",
       "        <tr>\n",
       "            <th>Setting</th>\n",
       "            <th>Value</th>\n",
       "        </tr>\n",
       "        <tr>\n",
       "            <td>State</td>\n",
       "            <td>{{stateAbbrev}}</td>\n",
       "        </tr>\n",
       "        <tr>\n",
       "            <td>Record Type</td>\n",
       "            <td>{{recType}}</td>\n",
       "        </tr>\n",
       "        <tr>\n",
       "            <td>Occurance Factor</td>\n",
       "            <td>{{occurrenceFactor}}</td>\n",
       "        </tr>\n",
       "        <tr>\n",
       "            <td>Station ID</td>\n",
       "            <td>{{station.0}}</td>\n",
       "        </tr>\n",
       "        <tr>\n",
       "            <td>Narration</td>\n",
       "            <td>{{isNarration}}</td>\n",
       "        </tr>\n",
       "        <tr>\n",
       "            <td>Map View</td>\n",
       "            <td>{{isMap}}</td>\n",
       "        </tr>\n",
       "    </table>\n",
       "    <p class=\"widget\">{{recType}} temperature record analysis using historical NOAA data from weather {{station.5}}.</p>\n",
       "</template>"
      ],
      "text/plain": [
       "<IPython.core.display.HTML object>"
      ]
     },
     "metadata": {},
     "output_type": "display_data"
    }
   ],
   "source": [
    "%%html\n",
    "<template id=\"channelMonitorWidget\" is=\"urth-core-bind\" channel=\"noaaquery\">\n",
    "    <h2 class=\"widget\">Channel Monitor</h2>\n",
    "    <p class=\"widget\"><b>Query Selections:</b></p>\n",
    "    <table border=\"1\" align=\"center\">\n",
    "        <tr>\n",
    "            <th>Setting</th>\n",
    "            <th>Value</th>\n",
    "        </tr>\n",
    "        <tr>\n",
    "            <td>State</td>\n",
    "            <td>{{stateAbbrev}}</td>\n",
    "        </tr>\n",
    "        <tr>\n",
    "            <td>Record Type</td>\n",
    "            <td>{{recType}}</td>\n",
    "        </tr>\n",
    "        <tr>\n",
    "            <td>Occurance Factor</td>\n",
    "            <td>{{occurrenceFactor}}</td>\n",
    "        </tr>\n",
    "        <tr>\n",
    "            <td>Station ID</td>\n",
    "            <td>{{station.0}}</td>\n",
    "        </tr>\n",
    "        <tr>\n",
    "            <td>Narration</td>\n",
    "            <td>{{isNarration}}</td>\n",
    "        </tr>\n",
    "        <tr>\n",
    "            <td>Map View</td>\n",
    "            <td>{{isMap}}</td>\n",
    "        </tr>\n",
    "    </table>\n",
    "    <p class=\"widget\">{{recType}} temperature record analysis using historical NOAA data from weather {{station.5}}.</p>\n",
    "</template>"
   ]
  },
  {
   "cell_type": "markdown",
   "metadata": {
    "urth": {
     "dashboard": {
      "hidden": true
     }
    }
   },
   "source": [
    "### Station Detail Widget\n",
    "\n",
    "This *composite widget* allows the user view station details for the selected state. Tabluar and map viewing options are available.\n"
   ]
  },
  {
   "cell_type": "code",
   "execution_count": 17,
   "metadata": {
    "collapsed": false,
    "scrolled": false,
    "urth": {
     "dashboard": {}
    }
   },
   "outputs": [],
   "source": [
    "# Use Python to generate a Folium Map with Markers for each weather station in the selected state.\n",
    "def display_map(m, height=500):\n",
    "    '''Takes a folium instance and embed HTML.'''\n",
    "    m._build_map()\n",
    "    srcdoc = m.HTML.replace('\"', '&quot;')\n",
    "    embed = '<iframe srcdoc=\"{0}\" style=\"width: 100%; height: {1}px; border: none\"></iframe>'.format(srcdoc, height)\n",
    "    return embed\n",
    "\n",
    "def render_map(height=500):\n",
    "    '''Generate a map based on a dateframe of station detail.'''\n",
    "    df = DATA_STATE_STATION_LIST   \n",
    "    centerpoint_latitude = np.mean(df.Latitude.astype(float))\n",
    "    centerpoint_longitude = np.mean(df.Longitude.astype(float))\n",
    "    map_obj = folium.Map(location=[centerpoint_latitude, centerpoint_longitude],zoom_start=6)\n",
    "    for index, row in df.iterrows():\n",
    "        map_obj.simple_marker([row.Latitude, row.Longitude], popup=row.QueryTag) \n",
    "    return display_map(map_obj)\n",
    "\n",
    "# We can examine the generated HTML for the dynamic map\n",
    "#render_map()"
   ]
  },
  {
   "cell_type": "markdown",
   "metadata": {
    "urth": {
     "dashboard": {
      "hidden": true
     }
    }
   },
   "source": [
    "##### HACK: urth-core-watch seems to misbehave when combined with output elements. The workaround is to split the widget into two."
   ]
  },
  {
   "cell_type": "code",
   "execution_count": 18,
   "metadata": {
    "collapsed": false,
    "urth": {
     "dashboard": {
      "hidden": true
     }
    }
   },
   "outputs": [
    {
     "data": {
      "text/html": [
       "<template id=\"station_detail_combo_func\" is=\"urth-core-bind\" channel=\"noaaquery\">\n",
       "    <urth-core-watch value=\"{{stationResultsReady}}\">\n",
       "        <urth-core-function id=\"renderFoliumMapFunc\" \n",
       "            ref=\"render_map\"\n",
       "            result=\"{{foliumMap}}\" auto>\n",
       "        </urth-core-function>\n",
       "    </urth-core-watch>\n",
       "</template>"
      ],
      "text/plain": [
       "<IPython.core.display.HTML object>"
      ]
     },
     "metadata": {},
     "output_type": "display_data"
    }
   ],
   "source": [
    "%%html\n",
    "<template id=\"station_detail_combo_func\" is=\"urth-core-bind\" channel=\"noaaquery\">\n",
    "    <urth-core-watch value=\"{{stationResultsReady}}\">\n",
    "        <urth-core-function id=\"renderFoliumMapFunc\" \n",
    "            ref=\"render_map\"\n",
    "            result=\"{{foliumMap}}\" auto>\n",
    "        </urth-core-function>\n",
    "    </urth-core-watch>\n",
    "</template>"
   ]
  },
  {
   "cell_type": "code",
   "execution_count": 19,
   "metadata": {
    "collapsed": false,
    "urth": {
     "dashboard": {
      "layout": {
       "col": 0,
       "height": 39,
       "row": 19,
       "width": 12
      }
     }
    }
   },
   "outputs": [
    {
     "data": {
      "text/html": [
       "<template id=\"station_detail_combo_widget\" is=\"urth-core-bind\" channel=\"noaaquery\">\n",
       "    <paper-card style=\"width: 100%;\" heading=\"{{stateAbbrev}} Weather Stations\" elevation=\"1\">\n",
       "        <p>These are the weather stations monitoring local conditions. Select a station to explore historical record temperatures.</p>\n",
       "        <urth-viz-table datarows=\"{{ stationQueryResult.data }}\" selection=\"{{station}}\" columns=\"{{ stationQueryResult.columns }}\" rows-visible=20>\n",
       "        </urth-viz-table>\n",
       "    </paper-card>\n",
       "    <template is=\"dom-if\" if=\"{{isNewQuery}}\">\n",
       "        <template is=\"dom-if\" if=\"{{isMap}}\">\n",
       "            <div>\n",
       "                <urth-raw-html html=\"{{foliumMap}}\"/>\n",
       "            </div>\n",
       "        </template>\n",
       "    </template>\n",
       "</template>"
      ],
      "text/plain": [
       "<IPython.core.display.HTML object>"
      ]
     },
     "metadata": {},
     "output_type": "display_data"
    }
   ],
   "source": [
    "%%html\n",
    "<template id=\"station_detail_combo_widget\" is=\"urth-core-bind\" channel=\"noaaquery\">\n",
    "    <paper-card style=\"width: 100%;\" heading=\"{{stateAbbrev}} Weather Stations\" elevation=\"1\">\n",
    "        <p>These are the weather stations monitoring local conditions. Select a station to explore historical record temperatures.</p>\n",
    "        <urth-viz-table datarows=\"{{ stationQueryResult.data }}\" selection=\"{{station}}\" columns=\"{{ stationQueryResult.columns }}\" rows-visible=20>\n",
    "        </urth-viz-table>\n",
    "    </paper-card>\n",
    "    <template is=\"dom-if\" if=\"{{isNewQuery}}\">\n",
    "        <template is=\"dom-if\" if=\"{{isMap}}\">\n",
    "            <div>\n",
    "                <urth-raw-html html=\"{{foliumMap}}\"/>\n",
    "            </div>\n",
    "        </template>\n",
    "    </template>\n",
    "</template>"
   ]
  },
  {
   "cell_type": "markdown",
   "metadata": {
    "urth": {
     "dashboard": {
      "hidden": true
     }
    }
   },
   "source": [
    "### Station Summary Widget\n",
    "\n",
    "This widget provides the user with a glimpse into the historic hi/low record data for the selected station."
   ]
  },
  {
   "cell_type": "code",
   "execution_count": 20,
   "metadata": {
    "collapsed": true,
    "urth": {
     "dashboard": {}
    }
   },
   "outputs": [],
   "source": [
    "def explore_station_data(station):\n",
    "    global DATA_STATION_DETAIL_RESULTS\n",
    "    df_station_detail = fetch_station_data(station)\n",
    "    channel(\"noaaquery\").set(\"yearsOfService\", compute_years_of_station_data(df_station_detail))\n",
    "    DATA_STATION_DETAIL_RESULTS = df_station_detail\n",
    "    #display(Javascript(\"stationRecordFreqFunc.invoke()\"))\n",
    "    return df_station_detail"
   ]
  },
  {
   "cell_type": "code",
   "execution_count": 21,
   "metadata": {
    "collapsed": false,
    "urth": {
     "dashboard": {
      "layout": {
       "col": 0,
       "height": 22,
       "row": 58,
       "width": 12
      }
     }
    }
   },
   "outputs": [
    {
     "data": {
      "text/html": [
       "<template id=\"station_summary_widget\" is=\"urth-core-bind\" channel=\"noaaquery\">\n",
       "    <urth-core-function id=\"exploreStationDataFunc\" \n",
       "        ref=\"explore_station_data\"\n",
       "        arg-station=\"[[station.0]]\"\n",
       "        result=\"{{stationSummaryResult}}\" auto>\n",
       "    </urth-core-function>\n",
       "    <paper-card style=\"width: 100%;\" heading=\"Station Summary\" elevation=\"1\">\n",
       "         <template is=\"dom-if\" if=\"{{stationSummaryResult}}\">\n",
       "            <p>{{recType}} temperature record analysis using historical NOAA data from weather {{station.5}}.</p>\n",
       "            <p>This weather station has been in service and collecting data for {{yearsOfService}} years.</p>\n",
       "            <urth-viz-table datarows=\"{{ stationSummaryResult.data }}\" selection=\"{{dayAtStation}}\" columns=\"{{ stationSummaryResult.columns }}\" rows-visible=20>\n",
       "            </urth-viz-table>\n",
       "        </template>\n",
       "    </paper-card> \n",
       "</template>"
      ],
      "text/plain": [
       "<IPython.core.display.HTML object>"
      ]
     },
     "metadata": {},
     "output_type": "display_data"
    }
   ],
   "source": [
    "%%html\n",
    "<template id=\"station_summary_widget\" is=\"urth-core-bind\" channel=\"noaaquery\">\n",
    "    <urth-core-function id=\"exploreStationDataFunc\" \n",
    "        ref=\"explore_station_data\"\n",
    "        arg-station=\"[[station.0]]\"\n",
    "        result=\"{{stationSummaryResult}}\" auto>\n",
    "    </urth-core-function>\n",
    "    <paper-card style=\"width: 100%;\" heading=\"Station Summary\" elevation=\"1\">\n",
    "         <template is=\"dom-if\" if=\"{{stationSummaryResult}}\">\n",
    "            <p>{{recType}} temperature record analysis using historical NOAA data from weather {{station.5}}.</p>\n",
    "            <p>This weather station has been in service and collecting data for {{yearsOfService}} years.</p>\n",
    "            <urth-viz-table datarows=\"{{ stationSummaryResult.data }}\" selection=\"{{dayAtStation}}\" columns=\"{{ stationSummaryResult.columns }}\" rows-visible=20>\n",
    "            </urth-viz-table>\n",
    "        </template>\n",
    "    </paper-card> \n",
    "</template>"
   ]
  },
  {
   "cell_type": "markdown",
   "metadata": {
    "urth": {
     "dashboard": {
      "hidden": true
     }
    }
   },
   "source": [
    "### Temperature Record Analysis for Selected Station\n",
    "\n",
    "This widget provides the user with insights for selected station."
   ]
  },
  {
   "cell_type": "code",
   "execution_count": 22,
   "metadata": {
    "collapsed": false,
    "urth": {
     "dashboard": {}
    }
   },
   "outputs": [],
   "source": [
    "def plot_record_results(rectype,fname=None):\n",
    "    df = DATA_FREQUENCY_RESULTS\n",
    "    plt.figure(figsize = (9,9), dpi = 72)\n",
    "    if rectype == \"High\":\n",
    "        dates = create_record_date_list(df.Month.to_dict(),\n",
    "                                        df.Day.to_dict(),\n",
    "                                        df.TMaxRecordYear.to_dict()\n",
    "                                       )\n",
    "        temperatureRecordsPerDate = {'RecordDate' : pd.Series(dates,index=df.index),\n",
    "                                      'RecordHighTemp' : pd.Series(df.TMax.to_dict(),index=df.index)\n",
    "                                     }\n",
    "        df_new = pd.DataFrame(temperatureRecordsPerDate)\n",
    "        sns_plot = sns.factorplot(x=\"RecordDate\", y=\"RecordHighTemp\", kind=\"bar\", data=df_new, size=6, aspect=1.5)\n",
    "        sns_plot.set_xticklabels(rotation=30)\n",
    "    else:\n",
    "        dates = create_record_date_list(df.Month.to_dict(),\n",
    "                                        df.Day.to_dict(),\n",
    "                                        df.TMinRecordYear.to_dict()\n",
    "                                       )\n",
    "        temperatureRecordsPerDate = {'RecordDate' : pd.Series(dates,index=df.index),\n",
    "                                      'RecordLowTemp' : pd.Series(df.TMin.to_dict(),index=df.index)\n",
    "                                     }\n",
    "        df_new = pd.DataFrame(temperatureRecordsPerDate)\n",
    "        sns_plot = sns.factorplot(x=\"RecordDate\", y=\"RecordLowTemp\", kind=\"bar\", data=df_new, size=6, aspect=1.5)\n",
    "        sns_plot.set_xticklabels(rotation=30)\n",
    "    if fname is not None:\n",
    "        if os.path.isfile(fname):\n",
    "            os.remove(fname)\n",
    "        sns_plot.savefig(fname)\n",
    "    return sns_plot.fig\n",
    "\n",
    "def compute_record_durations(df,rectype):\n",
    "    '''Return dataframe of max/min temperature record durations for each day.'''\n",
    "    dates = create_date_list(df.Month.to_dict(),df.Day.to_dict())\n",
    "    s_dates = pd.Series(dates)\n",
    "    if rectype == \"High\":\n",
    "        s_values = pd.Series(df.MaxDurTMaxRecord.to_dict(),index=df.index)\n",
    "    else:\n",
    "        s_values = pd.Series(df.MaxDurTMinRecord.to_dict(),index=df.index)\n",
    "    temperatureDurationsPerDate = {'RecordDate' : pd.Series(dates,index=df.index),\n",
    "                                  'RecordLowTemp' : s_values\n",
    "                                 }\n",
    "    df_new = pd.DataFrame(temperatureDurationsPerDate)\n",
    "    return df_new\n",
    "\n",
    "def plot_duration_results(rectype,fname=None):\n",
    "    df_durations = compute_record_durations(DATA_FREQUENCY_RESULTS,rectype)\n",
    "    fig = plt.figure(figsize = (9,9), dpi = 72)\n",
    "    plt.xlabel('Day')\n",
    "    plt.ylabel('Record Duration in Years')\n",
    "    if rectype == \"High\":\n",
    "        plt.title('Maximum Duration for TMax Records')\n",
    "    else:\n",
    "        plt.title('Maximum Duration for TMin Records')\n",
    "    ax = plt.gca()\n",
    "    colors= ['r', 'b']\n",
    "    df_durations.plot(kind='bar',color=colors, alpha=0.75, ax=ax)\n",
    "    ax.xaxis.set_ticklabels( ['%s'  % i for i in df_durations.RecordDate.values] )\n",
    "    plt.grid(b=True, which='major', linewidth=1.0)\n",
    "    plt.grid(b=True, which='minor')\n",
    "    if fname is not None:\n",
    "        if os.path.isfile(fname):\n",
    "            os.remove(fname)\n",
    "        plt.savefig(fname)\n",
    "    return fig\n",
    "\n",
    "def explore_record_temperature_frequency(rectype,recfreqfactor):\n",
    "    global DATA_FREQUENCY_RESULTS\n",
    "    channel(\"noaaquery\").set(\"isAboveFreqFactor\", True)\n",
    "    channel(\"noaaquery\").set(\"numberRecordDays\", 0)    \n",
    "    if rectype == \"High\":\n",
    "        df_record_days = compute_tmax_record_quantity(DATA_STATION_DETAIL_RESULTS,recfreqfactor)\n",
    "    else:\n",
    "        df_record_days = compute_tmin_record_quantity(DATA_STATION_DETAIL_RESULTS,recfreqfactor)\n",
    "    if not df_record_days.empty:\n",
    "        channel(\"noaaquery\").set(\"numberRecordDays\", len(df_record_days))\n",
    "        DATA_FREQUENCY_RESULTS = df_record_days\n",
    "    else:\n",
    "        channel(\"noaaquery\").set(\"isAboveFreqFactor\", \"\")    \n",
    "    #display(Javascript(\"stationRecordFreqFunc.invoke()\"))\n",
    "    return df_record_days"
   ]
  },
  {
   "cell_type": "code",
   "execution_count": 23,
   "metadata": {
    "collapsed": false,
    "urth": {
     "dashboard": {
      "hidden": true
     }
    }
   },
   "outputs": [
    {
     "data": {
      "text/html": [
       "<template id=\"station_synopsis_data_widget\" is=\"urth-core-bind\" channel=\"noaaquery\">\n",
       "    <urth-core-watch value=\"{{station.0}}\">\n",
       "        <urth-core-function id=\"stationRecordFreqFunc\"\n",
       "            ref=\"explore_record_temperature_frequency\" \n",
       "            arg-rectype=\"[[recType]]\"\n",
       "            arg-recfreqfactor=\"[[occurrenceFactor]]\"\n",
       "            result=\"{{stationFreqRecordsResult}}\" auto>\n",
       "        </urth-core-function>\n",
       "    </urth-core-watch>  \n",
       "</template>"
      ],
      "text/plain": [
       "<IPython.core.display.HTML object>"
      ]
     },
     "metadata": {},
     "output_type": "display_data"
    }
   ],
   "source": [
    "%%html\n",
    "<template id=\"station_synopsis_data_widget\" is=\"urth-core-bind\" channel=\"noaaquery\">\n",
    "    <urth-core-watch value=\"{{station.0}}\">\n",
    "        <urth-core-function id=\"stationRecordFreqFunc\"\n",
    "            ref=\"explore_record_temperature_frequency\" \n",
    "            arg-rectype=\"[[recType]]\"\n",
    "            arg-recfreqfactor=\"[[occurrenceFactor]]\"\n",
    "            result=\"{{stationFreqRecordsResult}}\" auto>\n",
    "        </urth-core-function>\n",
    "    </urth-core-watch>  \n",
    "</template>"
   ]
  },
  {
   "cell_type": "code",
   "execution_count": 24,
   "metadata": {
    "collapsed": false,
    "urth": {
     "dashboard": {
      "layout": {
       "col": 0,
       "height": 51,
       "row": 80,
       "width": 12
      }
     }
    }
   },
   "outputs": [
    {
     "data": {
      "text/html": [
       "<template id=\"station_synopsis_chart_widget\" is=\"urth-core-bind\" channel=\"noaaquery\">\n",
       "    <template is=\"dom-if\" if=\"{{stationFreqRecordsResult}}\">\n",
       "        <paper-card style=\"width: 100%;\" heading=\"Temperature Record Analysis\" elevation=\"1\">\n",
       "            <p>This station has experienced {{numberRecordDays}} days of new {{recType}} records where a new record has been set more than {{occurrenceFactor}} times throughout the operation of the station.</p>\n",
       "            <urth-viz-table datarows=\"{{ stationFreqRecordsResult.data }}\" selection=\"{{dayAtStation}}\" columns=\"{{ stationFreqRecordsResult.columns }}\" rows-visible=20>\n",
       "            </urth-viz-table>\n",
       "        </paper-card> \n",
       "        <template is=\"dom-if\" if=\"{{isAboveFreqFactor}}\">\n",
       "            <urth-core-function id=\"stationRecordsFunc\" \n",
       "                ref=\"plot_record_results\"\n",
       "                arg-rectype=\"[[recType]]\"\n",
       "                result=\"{{stationRecordsPlot}}\" auto>\n",
       "            </urth-core-function>\n",
       "            <urth-core-function id=\"stationDurationsFunc\" \n",
       "                ref=\"plot_duration_results\"\n",
       "                arg-rectype=\"[[recType]]\"\n",
       "                result=\"{{stationDurationsPlot}}\" auto>\n",
       "            </urth-core-function>\n",
       "            <paper-card heading=\"Station {{station.0}} Records Per Day\" elevation=\"0\">\n",
       "                <p>The current {{recType}} temperature record for each day that has experienced more than {{occurrenceFactor}} new record events since the station has come online.</p>\n",
       "                <img src=\"{{stationRecordsPlot}}\"/><br/>\n",
       "            </paper-card>\n",
       "            <paper-card heading=\"Duration of Station {{station.0}} Records Per Day\" elevation=\"0\">\n",
       "                <p>For each day that has experienced more than {{occurrenceFactor}} {{recType}} temperature records, some days have had records stand for a large portion of the life of the station.</p>\n",
       "                <img src=\"{{stationDurationsPlot}}\"/>\n",
       "            </paper-card>\n",
       "        </template>\n",
       "        <template is=\"dom-if\" if=\"{{!isAboveFreqFactor}}\">\n",
       "            <p>This weather station has not experienced any days with greater than {{occurrenceFactor}} new {{recType}} records.</p>\n",
       "        </template>\n",
       "    </template> \n",
       "</template>"
      ],
      "text/plain": [
       "<IPython.core.display.HTML object>"
      ]
     },
     "metadata": {},
     "output_type": "display_data"
    }
   ],
   "source": [
    "%%html\n",
    "<template id=\"station_synopsis_chart_widget\" is=\"urth-core-bind\" channel=\"noaaquery\">\n",
    "    <template is=\"dom-if\" if=\"{{stationFreqRecordsResult}}\">\n",
    "        <paper-card style=\"width: 100%;\" heading=\"Temperature Record Analysis\" elevation=\"1\">\n",
    "            <p>This station has experienced {{numberRecordDays}} days of new {{recType}} records where a new record has been set more than {{occurrenceFactor}} times throughout the operation of the station.</p>\n",
    "            <urth-viz-table datarows=\"{{ stationFreqRecordsResult.data }}\" selection=\"{{dayAtStation}}\" columns=\"{{ stationFreqRecordsResult.columns }}\" rows-visible=20>\n",
    "            </urth-viz-table>\n",
    "        </paper-card> \n",
    "        <template is=\"dom-if\" if=\"{{isAboveFreqFactor}}\">\n",
    "            <urth-core-function id=\"stationRecordsFunc\" \n",
    "                ref=\"plot_record_results\"\n",
    "                arg-rectype=\"[[recType]]\"\n",
    "                result=\"{{stationRecordsPlot}}\" auto>\n",
    "            </urth-core-function>\n",
    "            <urth-core-function id=\"stationDurationsFunc\" \n",
    "                ref=\"plot_duration_results\"\n",
    "                arg-rectype=\"[[recType]]\"\n",
    "                result=\"{{stationDurationsPlot}}\" auto>\n",
    "            </urth-core-function>\n",
    "            <paper-card heading=\"Station {{station.0}} Records Per Day\" elevation=\"0\">\n",
    "                <p>The current {{recType}} temperature record for each day that has experienced more than {{occurrenceFactor}} new record events since the station has come online.</p>\n",
    "                <img src=\"{{stationRecordsPlot}}\"/><br/>\n",
    "            </paper-card>\n",
    "            <paper-card heading=\"Duration of Station {{station.0}} Records Per Day\" elevation=\"0\">\n",
    "                <p>For each day that has experienced more than {{occurrenceFactor}} {{recType}} temperature records, some days have had records stand for a large portion of the life of the station.</p>\n",
    "                <img src=\"{{stationDurationsPlot}}\"/>\n",
    "            </paper-card>\n",
    "        </template>\n",
    "        <template is=\"dom-if\" if=\"{{!isAboveFreqFactor}}\">\n",
    "            <p>This weather station has not experienced any days with greater than {{occurrenceFactor}} new {{recType}} records.</p>\n",
    "        </template>\n",
    "    </template> \n",
    "</template>"
   ]
  },
  {
   "cell_type": "markdown",
   "metadata": {
    "urth": {
     "dashboard": {
      "layout": {
       "col": 0,
       "height": 14,
       "row": 151,
       "width": 12
      }
     }
    }
   },
   "source": [
    "## Conclusion\n",
    "\n",
    "It seems that most weather stations in the USA are less than 130 years old and few have experienced a significant number of max/min record temperature events. There is also a far amount of evidence of records lasting for decades.\n",
    "\n",
    "### Resources\n",
    "\n",
    "1. This analytical notebook is a component of a [package of notebooks](https://github.com/knowledgeanyhow/notebooks/tree/master/noaa/hdta). The package is intended to serve as an exercise in the applicability of IPython/Juypter Notebooks to public weather data for DIY Analytics.\n",
    "2. The Global Historical Climatology Network (GHCN) - [Daily dataset](http://gis.ncdc.noaa.gov/all-records/catalog/search/resource/details.page?id=gov.noaa.ncdc:C00861) integrates daily climate observations from approximately 30 different data sources. Over 25,000 worldwide weather stations are regularly updated with observations from within roughly the last month. \n",
    "\n",
    "### Citation Information\n",
    "\n",
    "* [GHCN-Daily journal article](doi:10.1175/JTECH-D-11-00103.1): Menne, M.J., I. Durre, R.S. Vose, B.E. Gleason, and T.G. Houston, 2012:  An overview of the Global Historical Climatology Network-Daily Database.  Journal of Atmospheric and Oceanic Technology, 29, 897-910.\n",
    "* Menne, M.J., I. Durre, B. Korzeniewski, S. McNeal, K. Thomas, X. Yin, S. Anthony, R. Ray, R.S. Vose, B.E.Gleason, and T.G. Houston, 2012: [Global Historical Climatology Network - Daily (GHCN-Daily)](http://doi.org/10.7289/V5D21VHZ), [Version 3.20-upd-2015031605], NOAA National Climatic Data Center [March 16, 2015]."
   ]
  }
 ],
 "metadata": {
  "kernelspec": {
   "display_name": "Python 3",
   "language": "python",
   "name": "python3"
  },
  "language_info": {
   "codemirror_mode": {
    "name": "ipython",
    "version": 3
   },
   "file_extension": ".py",
   "mimetype": "text/x-python",
   "name": "python",
   "nbconvert_exporter": "python",
   "pygments_lexer": "ipython3",
   "version": "3.4.3"
  },
  "urth": {
   "dashboard": {
    "cellMargin": 10,
    "defaultCellHeight": 20,
    "maxColumns": 12
   }
  }
 },
 "nbformat": 4,
 "nbformat_minor": 0
}
