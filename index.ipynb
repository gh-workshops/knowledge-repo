{
 "cells": [
  {
   "cell_type": "markdown",
   "metadata": {},
   "source": [
    "# Jupyter Samples\n",
    "\n",
    "This repository contains sample Jupyter notebooks ranging from tutorials on using popular open source repositories to sample analyses on public data sets to neat notebook hacks.\n",
    "\n",
    "* [Exploration of Airline On-Time Performance](airline/Exploration%20of%20Airline%20On-Time%20Performance.ipynb)\n",
    "* [Hacker News and AlchemyAPI](hn/)\n",
    "* [Hooke's Law of Elasticity](Elasticity)\n",
    "* NOAA Climatology Data\n",
    "    * [NOAA Climatology Data Processing](noaa/etl/)\n",
    "    * [High Temperature Record Frequency Notebook](noaa/tmaxfreq/)\n",
    "    * [Temperature Record Frequency Dashboard](noaa/hdtadash/)\n",
    "* [Instaquery](hacks/instaquery.ipynb)\n",
    "* [Interactive Data Maps](tax-maps/Interactive%20Data%20Maps.ipynb)\n",
    "* [IPy Parallel and R](hacks/IPython%20Parallel%20and%20R.ipynb)\n",
    "* [MLB Modern Era Salaries](mlb/mlb-salaries.ipynb)\n",
    "* [Population Growth Estimates](united-nations/senegal_population_trends.ipynb)\n",
    "* [scikit-learn Recipes](scikit-learn/sklearn_cookbook.ipynb)\n",
    "* [Web Server in a Notebook](hacks/Webserver%20in%20a%20Notebook.ipynb)\n",
    "\n",
    "\n",
    "## License\n",
    "\n",
    "Notebooks are Copyright (c) IBM Corporation 2015 under the MIT license. See [LICENSE](LICENSE) for details.\n",
    "\n",
    "Sample data files, libraries, techniques, external publications, etc. are cited in the notebooks in which they are used. Those works remain under the copyright of their respective owners."
   ]
  }
 ],
 "metadata": {
  "kernelspec": {
   "display_name": "Python 3",
   "language": "python",
   "name": "python3"
  },
  "language_info": {
   "codemirror_mode": {
    "name": "ipython",
    "version": 3
   },
   "file_extension": ".py",
   "mimetype": "text/x-python",
   "name": "python",
   "nbconvert_exporter": "python",
   "pygments_lexer": "ipython3",
   "version": "3.4.3"
  }
 },
 "nbformat": 4,
 "nbformat_minor": 0
}
